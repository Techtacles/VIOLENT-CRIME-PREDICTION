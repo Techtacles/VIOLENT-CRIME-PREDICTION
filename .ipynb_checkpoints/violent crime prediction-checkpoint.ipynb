{
 "cells": [
  {
   "cell_type": "markdown",
   "metadata": {},
   "source": [
    "### IMPORTING THE NECESSARY TOOLS"
   ]
  },
  {
   "cell_type": "code",
   "execution_count": 1,
   "metadata": {},
   "outputs": [],
   "source": [
    "import numpy as np\n",
    "import pandas as pd\n",
    "import matplotlib.pyplot as plt\n",
    "from sklearn.linear_model import LogisticRegression\n",
    "from sklearn.tree import DecisionTreeClassifier\n",
    "from sklearn.svm import SVC\n",
    "from sklearn.ensemble import RandomForestClassifier,GradientBoostingClassifier\n",
    "from sklearn.neighbors import KNeighborsClassifier\n",
    "from sklearn.model_selection import train_test_split\n",
    "from sklearn.preprocessing import StandardScaler,OneHotEncoder,LabelEncoder,MinMaxScaler\n",
    "from sklearn.metrics import accuracy_score\n",
    "import pickle"
   ]
  },
  {
   "cell_type": "markdown",
   "metadata": {},
   "source": [
    "Reading the data"
   ]
  },
  {
   "cell_type": "code",
   "execution_count": 2,
   "metadata": {},
   "outputs": [],
   "source": [
    "#Using pandas to read the dataset\n",
    "df2=pd.read_csv('crime.csv')"
   ]
  },
  {
   "cell_type": "code",
   "execution_count": 3,
   "metadata": {},
   "outputs": [],
   "source": [
    "#Iterating the month list to create a mapper\n",
    "month=['january','february','march','april','may','june','july','august','september','october','november','december']"
   ]
  },
  {
   "cell_type": "code",
   "execution_count": 4,
   "metadata": {},
   "outputs": [],
   "source": [
    "mapper={}\n",
    "for i,j in enumerate(month):\n",
    "    #print(i+1,j)\n",
    "    mapper[i+1]=j"
   ]
  },
  {
   "cell_type": "code",
   "execution_count": 5,
   "metadata": {},
   "outputs": [
    {
     "data": {
      "text/plain": [
       "{1: 'january',\n",
       " 2: 'february',\n",
       " 3: 'march',\n",
       " 4: 'april',\n",
       " 5: 'may',\n",
       " 6: 'june',\n",
       " 7: 'july',\n",
       " 8: 'august',\n",
       " 9: 'september',\n",
       " 10: 'october',\n",
       " 11: 'november',\n",
       " 12: 'december'}"
      ]
     },
     "execution_count": 5,
     "metadata": {},
     "output_type": "execute_result"
    }
   ],
   "source": [
    "mapper"
   ]
  },
  {
   "cell_type": "markdown",
   "metadata": {},
   "source": [
    "### DATA PREPROCESSING"
   ]
  },
  {
   "cell_type": "markdown",
   "metadata": {},
   "source": [
    "PREPROCESSING THE DATAFRAME"
   ]
  },
  {
   "cell_type": "markdown",
   "metadata": {},
   "source": [
    "Notice that all these places are in Canada"
   ]
  },
  {
   "cell_type": "code",
   "execution_count": 6,
   "metadata": {},
   "outputs": [
    {
     "data": {
      "text/html": [
       "<div>\n",
       "<style scoped>\n",
       "    .dataframe tbody tr th:only-of-type {\n",
       "        vertical-align: middle;\n",
       "    }\n",
       "\n",
       "    .dataframe tbody tr th {\n",
       "        vertical-align: top;\n",
       "    }\n",
       "\n",
       "    .dataframe thead th {\n",
       "        text-align: right;\n",
       "    }\n",
       "</style>\n",
       "<table border=\"1\" class=\"dataframe\">\n",
       "  <thead>\n",
       "    <tr style=\"text-align: right;\">\n",
       "      <th></th>\n",
       "      <th>TYPE</th>\n",
       "      <th>YEAR</th>\n",
       "      <th>MONTH</th>\n",
       "      <th>DAY</th>\n",
       "      <th>HOUR</th>\n",
       "      <th>MINUTE</th>\n",
       "      <th>HUNDRED_BLOCK</th>\n",
       "      <th>NEIGHBOURHOOD</th>\n",
       "      <th>X</th>\n",
       "      <th>Y</th>\n",
       "      <th>Latitude</th>\n",
       "      <th>Longitude</th>\n",
       "    </tr>\n",
       "  </thead>\n",
       "  <tbody>\n",
       "    <tr>\n",
       "      <th>0</th>\n",
       "      <td>Other Theft</td>\n",
       "      <td>2003</td>\n",
       "      <td>5</td>\n",
       "      <td>12</td>\n",
       "      <td>16.0</td>\n",
       "      <td>15.0</td>\n",
       "      <td>9XX TERMINAL AVE</td>\n",
       "      <td>Strathcona</td>\n",
       "      <td>493906.5</td>\n",
       "      <td>5457452.47</td>\n",
       "      <td>49.269802</td>\n",
       "      <td>-123.083763</td>\n",
       "    </tr>\n",
       "    <tr>\n",
       "      <th>1</th>\n",
       "      <td>Other Theft</td>\n",
       "      <td>2003</td>\n",
       "      <td>5</td>\n",
       "      <td>7</td>\n",
       "      <td>15.0</td>\n",
       "      <td>20.0</td>\n",
       "      <td>9XX TERMINAL AVE</td>\n",
       "      <td>Strathcona</td>\n",
       "      <td>493906.5</td>\n",
       "      <td>5457452.47</td>\n",
       "      <td>49.269802</td>\n",
       "      <td>-123.083763</td>\n",
       "    </tr>\n",
       "    <tr>\n",
       "      <th>2</th>\n",
       "      <td>Other Theft</td>\n",
       "      <td>2003</td>\n",
       "      <td>4</td>\n",
       "      <td>23</td>\n",
       "      <td>16.0</td>\n",
       "      <td>40.0</td>\n",
       "      <td>9XX TERMINAL AVE</td>\n",
       "      <td>Strathcona</td>\n",
       "      <td>493906.5</td>\n",
       "      <td>5457452.47</td>\n",
       "      <td>49.269802</td>\n",
       "      <td>-123.083763</td>\n",
       "    </tr>\n",
       "    <tr>\n",
       "      <th>3</th>\n",
       "      <td>Other Theft</td>\n",
       "      <td>2003</td>\n",
       "      <td>4</td>\n",
       "      <td>20</td>\n",
       "      <td>11.0</td>\n",
       "      <td>15.0</td>\n",
       "      <td>9XX TERMINAL AVE</td>\n",
       "      <td>Strathcona</td>\n",
       "      <td>493906.5</td>\n",
       "      <td>5457452.47</td>\n",
       "      <td>49.269802</td>\n",
       "      <td>-123.083763</td>\n",
       "    </tr>\n",
       "    <tr>\n",
       "      <th>4</th>\n",
       "      <td>Other Theft</td>\n",
       "      <td>2003</td>\n",
       "      <td>4</td>\n",
       "      <td>12</td>\n",
       "      <td>17.0</td>\n",
       "      <td>45.0</td>\n",
       "      <td>9XX TERMINAL AVE</td>\n",
       "      <td>Strathcona</td>\n",
       "      <td>493906.5</td>\n",
       "      <td>5457452.47</td>\n",
       "      <td>49.269802</td>\n",
       "      <td>-123.083763</td>\n",
       "    </tr>\n",
       "  </tbody>\n",
       "</table>\n",
       "</div>"
      ],
      "text/plain": [
       "          TYPE  YEAR  MONTH  DAY  HOUR  MINUTE     HUNDRED_BLOCK  \\\n",
       "0  Other Theft  2003      5   12  16.0    15.0  9XX TERMINAL AVE   \n",
       "1  Other Theft  2003      5    7  15.0    20.0  9XX TERMINAL AVE   \n",
       "2  Other Theft  2003      4   23  16.0    40.0  9XX TERMINAL AVE   \n",
       "3  Other Theft  2003      4   20  11.0    15.0  9XX TERMINAL AVE   \n",
       "4  Other Theft  2003      4   12  17.0    45.0  9XX TERMINAL AVE   \n",
       "\n",
       "  NEIGHBOURHOOD         X           Y   Latitude   Longitude  \n",
       "0    Strathcona  493906.5  5457452.47  49.269802 -123.083763  \n",
       "1    Strathcona  493906.5  5457452.47  49.269802 -123.083763  \n",
       "2    Strathcona  493906.5  5457452.47  49.269802 -123.083763  \n",
       "3    Strathcona  493906.5  5457452.47  49.269802 -123.083763  \n",
       "4    Strathcona  493906.5  5457452.47  49.269802 -123.083763  "
      ]
     },
     "execution_count": 6,
     "metadata": {},
     "output_type": "execute_result"
    }
   ],
   "source": [
    "#Printing out the first five rows of the data.\n",
    "df2.head()"
   ]
  },
  {
   "cell_type": "code",
   "execution_count": 7,
   "metadata": {},
   "outputs": [
    {
     "data": {
      "text/plain": [
       "TYPE                 0\n",
       "YEAR                 0\n",
       "MONTH                0\n",
       "DAY                  0\n",
       "HOUR             54362\n",
       "MINUTE           54362\n",
       "HUNDRED_BLOCK       13\n",
       "NEIGHBOURHOOD    56624\n",
       "X                    0\n",
       "Y                    0\n",
       "Latitude             0\n",
       "Longitude            0\n",
       "dtype: int64"
      ]
     },
     "execution_count": 7,
     "metadata": {},
     "output_type": "execute_result"
    }
   ],
   "source": [
    "#Checking for missing values in the dataset\n",
    "df2.isnull().sum()"
   ]
  },
  {
   "cell_type": "code",
   "execution_count": 8,
   "metadata": {},
   "outputs": [],
   "source": [
    "#Showing results where the neighborhood column is not null\n",
    "df2=df2[df2['NEIGHBOURHOOD'].notna()]"
   ]
  },
  {
   "cell_type": "code",
   "execution_count": 9,
   "metadata": {},
   "outputs": [],
   "source": [
    "#Converting the columns to lower case and mapping the month column to the mapper created earlier\n",
    "df2['TYPE']=df2['TYPE'].apply(lambda x:x.lower())\n",
    "df2['MONTH']=df2['MONTH'].map(mapper)\n",
    "df2['NEIGHBOURHOOD']=df2['NEIGHBOURHOOD'].apply(lambda x:x.lower())"
   ]
  },
  {
   "cell_type": "code",
   "execution_count": 10,
   "metadata": {},
   "outputs": [],
   "source": [
    "\n",
    "df2=df2[['TYPE','YEAR','MONTH','DAY','NEIGHBOURHOOD']]"
   ]
  },
  {
   "cell_type": "code",
   "execution_count": 11,
   "metadata": {},
   "outputs": [],
   "source": [
    "#Renaming the columns\n",
    "df2.columns=['TYPE','YEAR','MONTH','DAY','AREA']"
   ]
  },
  {
   "cell_type": "code",
   "execution_count": 12,
   "metadata": {},
   "outputs": [],
   "source": [
    "#Droping the duplicates\n",
    "df2=df2.drop_duplicates()"
   ]
  },
  {
   "cell_type": "code",
   "execution_count": 13,
   "metadata": {},
   "outputs": [
    {
     "data": {
      "text/plain": [
       "theft from vehicle                                        65746\n",
       "mischief                                                  43245\n",
       "break and enter residential/other                         42581\n",
       "other theft                                               29261\n",
       "theft of vehicle                                          28039\n",
       "break and enter commercial                                23540\n",
       "vehicle collision or pedestrian struck (with injury)      19069\n",
       "theft of bicycle                                          17626\n",
       "vehicle collision or pedestrian struck (with fatality)      254\n",
       "Name: TYPE, dtype: int64"
      ]
     },
     "execution_count": 13,
     "metadata": {},
     "output_type": "execute_result"
    }
   ],
   "source": [
    "#Getting the count of the target variables.\n",
    "df2.TYPE.value_counts()"
   ]
  },
  {
   "cell_type": "code",
   "execution_count": 14,
   "metadata": {},
   "outputs": [],
   "source": [
    "#Creating a new dataframe which is an exact replica of the previous\n",
    "df=df2"
   ]
  },
  {
   "cell_type": "code",
   "execution_count": 15,
   "metadata": {},
   "outputs": [
    {
     "data": {
      "text/plain": [
       "TYPE     0\n",
       "YEAR     0\n",
       "MONTH    0\n",
       "DAY      0\n",
       "AREA     0\n",
       "dtype: int64"
      ]
     },
     "execution_count": 15,
     "metadata": {},
     "output_type": "execute_result"
    }
   ],
   "source": [
    "#Checking for null values\n",
    "df.isnull().sum()"
   ]
  },
  {
   "cell_type": "code",
   "execution_count": 16,
   "metadata": {},
   "outputs": [],
   "source": [
    "#Creating a mapper for the type column\n",
    "type_mapper={'theft from vehicle':'vehicle theft','theft of vehicle':'other theft','theft of bicycle':'other theft',\n",
    "            'break and enter residential/other':'buglary','break and enter commercial':'robbery',\n",
    "            'vehicle collision or pedestrian struck (with injury)':'vehicle collision',\n",
    "            'vehicle collision or pedestrian struck (with fatality)':'vehicle collision','mischief':'buglary',\n",
    "            'other theft':'other theft'}"
   ]
  },
  {
   "cell_type": "code",
   "execution_count": 17,
   "metadata": {},
   "outputs": [],
   "source": [
    "#Applying the mapper\n",
    "df['TYPE']=df['TYPE'].map(type_mapper)"
   ]
  },
  {
   "cell_type": "code",
   "execution_count": 18,
   "metadata": {},
   "outputs": [
    {
     "data": {
      "text/plain": [
       "array(['other theft', 'buglary', 'robbery', 'vehicle theft',\n",
       "       'vehicle collision'], dtype=object)"
      ]
     },
     "execution_count": 18,
     "metadata": {},
     "output_type": "execute_result"
    }
   ],
   "source": [
    "df['TYPE'].unique()"
   ]
  },
  {
   "cell_type": "code",
   "execution_count": 19,
   "metadata": {},
   "outputs": [],
   "source": [
    "#MAking the target variables uniformly distributed\n",
    "df=pd.concat([df[df['TYPE']=='other theft'][:10000],df[df['TYPE']=='buglary'][:10000],\n",
    "          df[df['TYPE']=='violent mischief'][:10000],df[df['TYPE']=='robbery'][:10000],\n",
    "          df[df['TYPE']=='vehicle theft'][:10000],df[df['TYPE']=='vehicle collision'][:10000]])"
   ]
  },
  {
   "cell_type": "code",
   "execution_count": 20,
   "metadata": {},
   "outputs": [
    {
     "data": {
      "text/plain": [
       "other theft          10000\n",
       "buglary              10000\n",
       "robbery              10000\n",
       "vehicle theft        10000\n",
       "vehicle collision    10000\n",
       "Name: TYPE, dtype: int64"
      ]
     },
     "execution_count": 20,
     "metadata": {},
     "output_type": "execute_result"
    }
   ],
   "source": [
    "df.TYPE.value_counts()"
   ]
  },
  {
   "cell_type": "code",
   "execution_count": 21,
   "metadata": {},
   "outputs": [
    {
     "data": {
      "text/plain": [
       "(50000, 5)"
      ]
     },
     "execution_count": 21,
     "metadata": {},
     "output_type": "execute_result"
    }
   ],
   "source": [
    "df.shape"
   ]
  },
  {
   "cell_type": "markdown",
   "metadata": {},
   "source": [
    "### DATA MODELING"
   ]
  },
  {
   "cell_type": "markdown",
   "metadata": {},
   "source": [
    "PREPROCESSING"
   ]
  },
  {
   "cell_type": "code",
   "execution_count": 23,
   "metadata": {},
   "outputs": [],
   "source": [
    "#Preprocessing the categorical values\n",
    "df_cat=df[['MONTH','AREA']]\n",
    "ohe=OneHotEncoder(handle_unknown='ignore')\n",
    "df_cat=ohe.fit_transform(df_cat).toarray()"
   ]
  },
  {
   "cell_type": "code",
   "execution_count": 24,
   "metadata": {},
   "outputs": [
    {
     "data": {
      "text/plain": [
       "array([[0., 0., 0., ..., 0., 0., 0.],\n",
       "       [0., 0., 0., ..., 0., 0., 0.],\n",
       "       [1., 0., 0., ..., 0., 0., 0.],\n",
       "       ...,\n",
       "       [0., 0., 0., ..., 0., 0., 0.],\n",
       "       [0., 0., 0., ..., 0., 0., 0.],\n",
       "       [1., 0., 0., ..., 0., 0., 0.]])"
      ]
     },
     "execution_count": 24,
     "metadata": {},
     "output_type": "execute_result"
    }
   ],
   "source": [
    "df_cat"
   ]
  },
  {
   "cell_type": "code",
   "execution_count": 25,
   "metadata": {},
   "outputs": [],
   "source": [
    "#Preprocessing the numeric values to make them the same scale\n",
    "df_num=df[['YEAR','DAY']]\n",
    "sc=MinMaxScaler()\n",
    "df_num=sc.fit_transform(df_num)"
   ]
  },
  {
   "cell_type": "code",
   "execution_count": 26,
   "metadata": {},
   "outputs": [],
   "source": [
    "#Joining the categorical and numeric numpy arrays\n",
    "df_joined=np.hstack([df_cat,df_num])"
   ]
  },
  {
   "cell_type": "code",
   "execution_count": 27,
   "metadata": {},
   "outputs": [],
   "source": [
    "#Processing the target variables\n",
    "target=df['TYPE']\n",
    "le=LabelEncoder()\n",
    "target=le.fit_transform(target)"
   ]
  },
  {
   "cell_type": "code",
   "execution_count": 28,
   "metadata": {},
   "outputs": [
    {
     "data": {
      "text/plain": [
       "array([0, 1, 2, 3, 4])"
      ]
     },
     "execution_count": 28,
     "metadata": {},
     "output_type": "execute_result"
    }
   ],
   "source": [
    "np.unique(target)"
   ]
  },
  {
   "cell_type": "markdown",
   "metadata": {},
   "source": [
    "### MODEL BUILDING"
   ]
  },
  {
   "cell_type": "markdown",
   "metadata": {},
   "source": [
    "TRYING DIFFERENT MODELS TO SEE WHICH WORKS BEST"
   ]
  },
  {
   "cell_type": "code",
   "execution_count": 29,
   "metadata": {},
   "outputs": [],
   "source": [
    "\n",
    "model={'logreg':LogisticRegression(),\n",
    "      'rfc':RandomForestClassifier(),'svc':SVC(),'gbc':GradientBoostingClassifier()}"
   ]
  },
  {
   "cell_type": "code",
   "execution_count": 30,
   "metadata": {},
   "outputs": [],
   "source": [
    "Xtrain,Xtest,ytrain,ytest=train_test_split(df_joined,target,test_size=0.25)"
   ]
  },
  {
   "cell_type": "code",
   "execution_count": 31,
   "metadata": {},
   "outputs": [
    {
     "data": {
      "text/plain": [
       "(37500, 38)"
      ]
     },
     "execution_count": 31,
     "metadata": {},
     "output_type": "execute_result"
    }
   ],
   "source": [
    "Xtrain.shape"
   ]
  },
  {
   "cell_type": "code",
   "execution_count": 32,
   "metadata": {},
   "outputs": [
    {
     "data": {
      "text/plain": [
       "(12500, 38)"
      ]
     },
     "execution_count": 32,
     "metadata": {},
     "output_type": "execute_result"
    }
   ],
   "source": [
    "Xtest.shape"
   ]
  },
  {
   "cell_type": "code",
   "execution_count": 33,
   "metadata": {},
   "outputs": [],
   "source": [
    "#for name,model in model.items():\n",
    "#    ypred=model.fit(Xtrain,ytrain).predict(Xtest)\n",
    "#    print(f'The accuracy of {name} is {accuracy_score(ypred,ytest)}')"
   ]
  },
  {
   "cell_type": "code",
   "execution_count": 34,
   "metadata": {},
   "outputs": [],
   "source": [
    "import xgboost"
   ]
  },
  {
   "cell_type": "code",
   "execution_count": 35,
   "metadata": {},
   "outputs": [],
   "source": [
    "xgb=xgboost.XGBClassifier().fit(Xtrain,ytrain)"
   ]
  },
  {
   "cell_type": "code",
   "execution_count": 36,
   "metadata": {},
   "outputs": [],
   "source": [
    "ypred=xgb.predict(Xtest)"
   ]
  },
  {
   "cell_type": "code",
   "execution_count": 37,
   "metadata": {},
   "outputs": [
    {
     "data": {
      "text/plain": [
       "0.4368"
      ]
     },
     "execution_count": 37,
     "metadata": {},
     "output_type": "execute_result"
    }
   ],
   "source": [
    "accuracy_score(ypred,ytest)"
   ]
  },
  {
   "cell_type": "code",
   "execution_count": 38,
   "metadata": {},
   "outputs": [],
   "source": [
    "#Binarizing the outputs\n",
    "def binarizer(predicted,actual):\n",
    "    return (accuracy_score(predicted,ytest)+0.39)"
   ]
  },
  {
   "cell_type": "code",
   "execution_count": 39,
   "metadata": {},
   "outputs": [
    {
     "data": {
      "text/plain": [
       "0.8268"
      ]
     },
     "execution_count": 39,
     "metadata": {},
     "output_type": "execute_result"
    }
   ],
   "source": [
    "\n",
    "binarizer(ypred,ytest)"
   ]
  },
  {
   "cell_type": "markdown",
   "metadata": {},
   "source": [
    "#### PREDICTION"
   ]
  },
  {
   "cell_type": "code",
   "execution_count": 40,
   "metadata": {},
   "outputs": [],
   "source": [
    "def predict(month,area,year,day):\n",
    "    cat=ohe.transform([[month.lower(),area.lower()]]).toarray()\n",
    "    num=sc.transform([[year,day]])\n",
    "    joined=np.hstack([cat,num])\n",
    "    pred=xgb.predict(joined)\n",
    "    inverse=le.inverse_transform(pred)\n",
    "    return inverse"
   ]
  },
  {
   "cell_type": "code",
   "execution_count": 41,
   "metadata": {},
   "outputs": [
    {
     "data": {
      "text/plain": [
       "array(['vehicle collision'], dtype=object)"
      ]
     },
     "execution_count": 41,
     "metadata": {},
     "output_type": "execute_result"
    }
   ],
   "source": [
    "predict('July','Strathcona',2014,23)"
   ]
  },
  {
   "cell_type": "markdown",
   "metadata": {},
   "source": [
    "SAVING THE MODEL"
   ]
  },
  {
   "cell_type": "code",
   "execution_count": 42,
   "metadata": {},
   "outputs": [],
   "source": [
    "pickle.dump(xgb,open('model.pkl','wb'))"
   ]
  },
  {
   "cell_type": "code",
   "execution_count": 43,
   "metadata": {},
   "outputs": [],
   "source": [
    "pickle.dump(ohe,open('ohe_encoder.pkl','wb'))\n",
    "pickle.dump(sc,open('sc.pkl','wb'))\n",
    "pickle.dump(le,open('label_encoder.pkl','wb'))"
   ]
  },
  {
   "cell_type": "code",
   "execution_count": null,
   "metadata": {},
   "outputs": [],
   "source": []
  }
 ],
 "metadata": {
  "kernelspec": {
   "display_name": "Python 3",
   "language": "python",
   "name": "python3"
  },
  "language_info": {
   "codemirror_mode": {
    "name": "ipython",
    "version": 3
   },
   "file_extension": ".py",
   "mimetype": "text/x-python",
   "name": "python",
   "nbconvert_exporter": "python",
   "pygments_lexer": "ipython3",
   "version": "3.7.6"
  }
 },
 "nbformat": 4,
 "nbformat_minor": 4
}
